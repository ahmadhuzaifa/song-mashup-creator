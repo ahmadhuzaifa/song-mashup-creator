{
  "nbformat": 4,
  "nbformat_minor": 0,
  "metadata": {
    "colab": {
      "name": "Song Mashup creator.ipynb",
      "provenance": [],
      "collapsed_sections": [],
      "toc_visible": true,
      "include_colab_link": true
    },
    "kernelspec": {
      "name": "python3",
      "display_name": "Python 3"
    }
  },
  "cells": [
    {
      "cell_type": "markdown",
      "metadata": {
        "id": "view-in-github",
        "colab_type": "text"
      },
      "source": [
        "<a href=\"https://colab.research.google.com/github/ahmadhuzaifa/song-mashup-creator/blob/master/Song_Mashup_creator.ipynb\" target=\"_parent\"><img src=\"https://colab.research.google.com/assets/colab-badge.svg\" alt=\"Open In Colab\"/></a>"
      ]
    },
    {
      "cell_type": "markdown",
      "metadata": {
        "id": "cQv8hvh_hL_x",
        "colab_type": "text"
      },
      "source": [
        "# Playlist Creator\n",
        "© Huzaifa Ahmad 2019"
      ]
    },
    {
      "cell_type": "code",
      "metadata": {
        "id": "yial_dMR9bYv",
        "colab_type": "code",
        "outputId": "e78ef15f-b452-4316-a1de-a443b3661701",
        "colab": {
          "base_uri": "https://localhost:8080/",
          "height": 190
        }
      },
      "source": [
        "!pip install youtube_dl\n",
        "!pip install pydub"
      ],
      "execution_count": 1,
      "outputs": [
        {
          "output_type": "stream",
          "text": [
            "Collecting youtube_dl\n",
            "\u001b[?25l  Downloading https://files.pythonhosted.org/packages/ec/4c/4aa3a86dc43623b9d5a4b0df2915908413703adc1899965c4b2e00bb8a4d/youtube_dl-2020.1.1-py2.py3-none-any.whl (1.8MB)\n",
            "\u001b[K     |████████████████████████████████| 1.8MB 6.6MB/s \n",
            "\u001b[?25hInstalling collected packages: youtube-dl\n",
            "Successfully installed youtube-dl-2020.1.1\n",
            "Collecting pydub\n",
            "  Downloading https://files.pythonhosted.org/packages/79/db/eaf620b73a1eec3c8c6f8f5b0b236a50f9da88ad57802154b7ba7664d0b8/pydub-0.23.1-py2.py3-none-any.whl\n",
            "Installing collected packages: pydub\n",
            "Successfully installed pydub-0.23.1\n"
          ],
          "name": "stdout"
        }
      ]
    },
    {
      "cell_type": "code",
      "metadata": {
        "id": "hsUF44o09Q1K",
        "colab_type": "code",
        "colab": {}
      },
      "source": [
        "import uuid \n",
        "from pydub import AudioSegment\n",
        "import youtube_dl as youTube_downloader\n",
        "\n",
        "prefs = {\n",
        "        'format': 'bestaudio/best',\n",
        "        'postprocessors': [{\n",
        "        'key': 'FFmpegExtractAudio',\n",
        "        'preferredcodec': 'mp3',\n",
        "        'preferredquality': '320',}],\n",
        "    }\n",
        "\n",
        "class JukeBoxCreator(object):\n",
        "  def __init__(self):\n",
        "    self.tracks_list = []\n",
        "\n",
        "  def createPlaylist(self, url_dictionary, wait_time_pref):\n",
        "    self.handle_preferences(wait_time_pref)\n",
        "    for url in url_dictionary:\n",
        "      start_time = url_dictionary[url][0]\n",
        "      end_time = url_dictionary[url][1]\n",
        "      print(start_time, end_time)\n",
        "      start_time = start_time * 1000\n",
        "      end_time= end_time * 1000\n",
        "      self.handle_songs(url, start_time, end_time)\n",
        "    final_track = AudioSegment.empty()\n",
        "    song_no = 0\n",
        "    for track in self.tracks_list:\n",
        "      if song_no == 0:\n",
        "        final_track = final_track + track\n",
        "      else:\n",
        "        final_track = final_track + (self.wait_song * self.wait_song_rep) + track\n",
        "      print(\"Song number \"+ str(song_no) +\" added.\")\n",
        "      song_no = song_no + 1\n",
        "    final_track.export(\"final.wav\")\n",
        "  \n",
        "  def handle_songs(self, url, start_time, end_time):\n",
        "    trimmed_song = self.download_trim_YTVideo(url, start_time, end_time)\n",
        "    self.tracks_list.append(trimmed_song)\n",
        "\n",
        "  def handle_preferences(self, wait_time_prefs):\n",
        "    url = wait_time_prefs['wait_song_url']\n",
        "    start_time = wait_time_prefs['start_time'] * 1000\n",
        "    end_time = wait_time_prefs['end_time'] * 1000\n",
        "    repetition = wait_time_prefs['repitition']\n",
        "    trimmed_song = self.download_trim_YTVideo(url, start_time, end_time)\n",
        "    self.wait_song = trimmed_song\n",
        "    print(len(self.wait_song))\n",
        "    self.wait_song_rep = repetition\n",
        "\n",
        "  def download_trim_YTVideo(self, url, start_time, end_time):\n",
        "    video_id = str(uuid.uuid1())\n",
        "    video_path = (video_id + \".mp3\")\n",
        "    video_path_trimed= video_id + \"_trimmed.wav\"\n",
        "    prefs['outtmpl'] = video_path\n",
        "    with youTube_downloader.YoutubeDL(prefs) as ydl:\n",
        "        ydl.download([url])\n",
        "    song = AudioSegment.from_file(video_path)\n",
        "    trimmed_song = song[start_time: end_time]\n",
        "    return trimmed_song"
      ],
      "execution_count": 0,
      "outputs": []
    },
    {
      "cell_type": "code",
      "metadata": {
        "id": "lgnTUz8kHue8",
        "colab_type": "code",
        "outputId": "47726843-a0c7-41ec-d445-a0322d38109d",
        "colab": {
          "base_uri": "https://localhost:8080/",
          "height": 391
        }
      },
      "source": [
        "j = JukeBoxCreator()\n",
        "url_dict = {\n",
        "    \"https://www.youtube.com/watch?v=9vkcYxbGdTE\":[10, 80],\n",
        "    \"https://www.youtube.com/watch?v=0WtRNGubWGA\":[10, 40]\n",
        "}\n",
        "wait_time_preferences = {'wait_song_url': 'https://www.youtube.com/watch?v=BGq5mXSHqTY',\n",
        "                         'start_time': 10,\n",
        "                         'end_time': 15,\n",
        "                         'repitition': 2}\n",
        "j.createPlaylist(url_dict, wait_time_preferences)\n"
      ],
      "execution_count": 3,
      "outputs": [
        {
          "output_type": "stream",
          "text": [
            "[youtube] BGq5mXSHqTY: Downloading webpage\n",
            "[youtube] BGq5mXSHqTY: Downloading video info webpage\n",
            "[youtube] BGq5mXSHqTY: Downloading js player vfl22ubNH\n",
            "[youtube] BGq5mXSHqTY: Downloading js player vfl22ubNH\n",
            "[download] Destination: a1dfb1ce-2d1c-11ea-9c15-0242ac1c0002.mp3\n",
            "[download] 100% of 4.21MiB in 00:00\n",
            "[ffmpeg] Post-process file a1dfb1ce-2d1c-11ea-9c15-0242ac1c0002.mp3 exists, skipping\n",
            "5000\n",
            "10 80\n",
            "[youtube] 9vkcYxbGdTE: Downloading webpage\n",
            "[youtube] 9vkcYxbGdTE: Downloading video info webpage\n",
            "[download] Destination: a4da3354-2d1c-11ea-9c15-0242ac1c0002.mp3\n",
            "[download] 100% of 3.72MiB in 00:00\n",
            "[ffmpeg] Post-process file a4da3354-2d1c-11ea-9c15-0242ac1c0002.mp3 exists, skipping\n",
            "10 40\n",
            "[youtube] 0WtRNGubWGA: Downloading webpage\n",
            "[youtube] 0WtRNGubWGA: Downloading video info webpage\n",
            "[download] Destination: a6af65be-2d1c-11ea-9c15-0242ac1c0002.mp3\n",
            "[download] 100% of 4.06MiB in 00:00\n",
            "[ffmpeg] Post-process file a6af65be-2d1c-11ea-9c15-0242ac1c0002.mp3 exists, skipping\n",
            "Song number 0 added.\n",
            "Song number 1 added.\n"
          ],
          "name": "stdout"
        }
      ]
    }
  ]
}